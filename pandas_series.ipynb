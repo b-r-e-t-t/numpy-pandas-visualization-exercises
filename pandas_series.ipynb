{
 "cells": [
  {
   "cell_type": "markdown",
   "id": "c8496eed",
   "metadata": {},
   "source": [
    "### Use pandas to create a Series named fruits from the following list:\n",
    "        [\"kiwi\", \"mango\", \"strawberry\", \"pineapple\", \"gala apple\", \"honeycrisp apple\", \"tomato\", \"watermelon\", \"honeydew\", \"kiwi\", \"kiwi\", \"kiwi\", \"mango\", \"blueberry\", \"blackberry\", \"gooseberry\", \"papaya\"]"
   ]
  },
  {
   "cell_type": "code",
   "execution_count": 2,
   "id": "1f11b4b1",
   "metadata": {},
   "outputs": [],
   "source": [
    "import numpy as np\n",
    "import pandas as pd\n",
    "\n",
    "import matplotlib.pyplot as plt"
   ]
  },
  {
   "cell_type": "code",
   "execution_count": 8,
   "id": "c207e109",
   "metadata": {},
   "outputs": [
    {
     "data": {
      "text/plain": [
       "0                 kiwi\n",
       "1                mango\n",
       "2           strawberry\n",
       "3            pineapple\n",
       "4           gala apple\n",
       "5     honeycrisp apple\n",
       "6               tomato\n",
       "7           watermelon\n",
       "8             honeydew\n",
       "9                 kiwi\n",
       "10                kiwi\n",
       "11                kiwi\n",
       "12               mango\n",
       "13           blueberry\n",
       "14          blackberry\n",
       "15          gooseberry\n",
       "16              papaya\n",
       "dtype: object"
      ]
     },
     "execution_count": 8,
     "metadata": {},
     "output_type": "execute_result"
    }
   ],
   "source": [
    "fruits = [\"kiwi\", \"mango\", \"strawberry\", \"pineapple\", \"gala apple\", \"honeycrisp apple\", \"tomato\", \"watermelon\", \"honeydew\", \"kiwi\", \"kiwi\", \"kiwi\", \"mango\", \"blueberry\", \"blackberry\", \"gooseberry\", \"papaya\"]\n",
    "fruits_series = pd.Series(fruits)"
   ]
  },
  {
   "cell_type": "markdown",
   "id": "4395d9b9",
   "metadata": {},
   "source": [
    "1. Determine the number of elements in fruits."
   ]
  },
  {
   "cell_type": "code",
   "execution_count": 14,
   "id": "453de63e",
   "metadata": {},
   "outputs": [
    {
     "data": {
      "text/plain": [
       "17"
      ]
     },
     "execution_count": 14,
     "metadata": {},
     "output_type": "execute_result"
    }
   ],
   "source": [
    "fruits_series.size"
   ]
  },
  {
   "cell_type": "markdown",
   "id": "bba0007a",
   "metadata": {},
   "source": [
    "2. Output only the index from fruits."
   ]
  },
  {
   "cell_type": "code",
   "execution_count": 17,
   "id": "78c6e737",
   "metadata": {},
   "outputs": [
    {
     "data": {
      "text/plain": [
       "RangeIndex(start=0, stop=17, step=1)"
      ]
     },
     "execution_count": 17,
     "metadata": {},
     "output_type": "execute_result"
    }
   ],
   "source": [
    "fruits_series.index"
   ]
  },
  {
   "cell_type": "markdown",
   "id": "f6495f7c",
   "metadata": {},
   "source": [
    "3. Output only the values from fruits."
   ]
  },
  {
   "cell_type": "code",
   "execution_count": 41,
   "id": "50bda95f",
   "metadata": {},
   "outputs": [
    {
     "data": {
      "text/plain": [
       "array(['kiwi', 'mango', 'strawberry', 'pineapple', 'gala apple',\n",
       "       'honeycrisp apple', 'tomato', 'watermelon', 'honeydew', 'kiwi',\n",
       "       'kiwi', 'kiwi', 'mango', 'blueberry', 'blackberry', 'gooseberry',\n",
       "       'papaya'], dtype=object)"
      ]
     },
     "execution_count": 41,
     "metadata": {},
     "output_type": "execute_result"
    }
   ],
   "source": [
    "fruits_series.values"
   ]
  },
  {
   "cell_type": "markdown",
   "id": "f8bbf8a4",
   "metadata": {},
   "source": [
    "4. Confirm the data type of the values in fruits."
   ]
  },
  {
   "cell_type": "code",
   "execution_count": 18,
   "id": "9618baff",
   "metadata": {},
   "outputs": [
    {
     "data": {
      "text/plain": [
       "dtype('O')"
      ]
     },
     "execution_count": 18,
     "metadata": {},
     "output_type": "execute_result"
    }
   ],
   "source": [
    "fruits_series.dtype"
   ]
  },
  {
   "cell_type": "markdown",
   "id": "31f41977",
   "metadata": {},
   "source": [
    "5. Output only the first five values from fruits. Output the last three values. Output two random values from fruits."
   ]
  },
  {
   "cell_type": "code",
   "execution_count": 23,
   "id": "4b0af9fa",
   "metadata": {},
   "outputs": [
    {
     "name": "stdout",
     "output_type": "stream",
     "text": [
      "0          kiwi\n",
      "1         mango\n",
      "2    strawberry\n",
      "3     pineapple\n",
      "4    gala apple\n",
      "dtype: object\n",
      "14    blackberry\n",
      "15    gooseberry\n",
      "16        papaya\n",
      "dtype: object\n",
      "14    blackberry\n",
      "1          mango\n",
      "dtype: object\n"
     ]
    }
   ],
   "source": [
    "print(fruits_series.head(5))\n",
    "print(fruits_series.tail(3))\n",
    "print(fruits_series.sample(2))"
   ]
  },
  {
   "cell_type": "markdown",
   "id": "9feef62c",
   "metadata": {},
   "source": [
    "6. Run the .describe() on fruits to see what information it returns when called on a Series with string values."
   ]
  },
  {
   "cell_type": "code",
   "execution_count": 24,
   "id": "a07825a1",
   "metadata": {},
   "outputs": [
    {
     "data": {
      "text/plain": [
       "count       17\n",
       "unique      13\n",
       "top       kiwi\n",
       "freq         4\n",
       "dtype: object"
      ]
     },
     "execution_count": 24,
     "metadata": {},
     "output_type": "execute_result"
    }
   ],
   "source": [
    "fruits_series.describe()"
   ]
  },
  {
   "cell_type": "markdown",
   "id": "81067950",
   "metadata": {},
   "source": [
    "7. Run the code necessary to produce only the unique string values from fruits."
   ]
  },
  {
   "cell_type": "code",
   "execution_count": 25,
   "id": "464d9754",
   "metadata": {},
   "outputs": [
    {
     "data": {
      "text/plain": [
       "array(['kiwi', 'mango', 'strawberry', 'pineapple', 'gala apple',\n",
       "       'honeycrisp apple', 'tomato', 'watermelon', 'honeydew',\n",
       "       'blueberry', 'blackberry', 'gooseberry', 'papaya'], dtype=object)"
      ]
     },
     "execution_count": 25,
     "metadata": {},
     "output_type": "execute_result"
    }
   ],
   "source": [
    "fruits_series.unique()\n",
    "#fruits_series.nunique()"
   ]
  },
  {
   "cell_type": "markdown",
   "id": "0681a05b",
   "metadata": {},
   "source": [
    "8. Determine how many times each unique string value occurs in fruits."
   ]
  },
  {
   "cell_type": "code",
   "execution_count": 42,
   "id": "359aff40",
   "metadata": {},
   "outputs": [
    {
     "data": {
      "text/plain": [
       "13"
      ]
     },
     "execution_count": 42,
     "metadata": {},
     "output_type": "execute_result"
    }
   ],
   "source": [
    "fruits_series.value_counts()"
   ]
  },
  {
   "cell_type": "markdown",
   "id": "e90ab945",
   "metadata": {},
   "source": [
    "9. Determine the string value that occurs most frequently in fruits."
   ]
  },
  {
   "cell_type": "code",
   "execution_count": 45,
   "id": "16dcefe9",
   "metadata": {},
   "outputs": [
    {
     "data": {
      "text/plain": [
       "'kiwi'"
      ]
     },
     "execution_count": 45,
     "metadata": {},
     "output_type": "execute_result"
    }
   ],
   "source": [
    "fruits_series.value_counts().idxmax()"
   ]
  },
  {
   "cell_type": "markdown",
   "id": "453d5fc3",
   "metadata": {},
   "source": [
    "10. Determine the string value that occurs least frequently in fruits."
   ]
  },
  {
   "cell_type": "code",
   "execution_count": 46,
   "id": "0e4e9ef1",
   "metadata": {},
   "outputs": [
    {
     "data": {
      "text/plain": [
       "papaya              1\n",
       "blackberry          1\n",
       "tomato              1\n",
       "gooseberry          1\n",
       "watermelon          1\n",
       "honeydew            1\n",
       "blueberry           1\n",
       "strawberry          1\n",
       "pineapple           1\n",
       "gala apple          1\n",
       "honeycrisp apple    1\n",
       "dtype: int64"
      ]
     },
     "execution_count": 46,
     "metadata": {},
     "output_type": "execute_result"
    }
   ],
   "source": [
    "fruits_series.value_counts().nsmallest(n = 1, keep = 'all')"
   ]
  },
  {
   "cell_type": "markdown",
   "id": "e0eed68b",
   "metadata": {},
   "source": [
    "Explore more attributes and methods while you continue to work with the fruits Series.\n",
    "\n",
    "1. Capitalize all the string values in fruits."
   ]
  },
  {
   "cell_type": "code",
   "execution_count": 47,
   "id": "e047b32c",
   "metadata": {},
   "outputs": [
    {
     "data": {
      "text/plain": [
       "0                 Kiwi\n",
       "1                Mango\n",
       "2           Strawberry\n",
       "3            Pineapple\n",
       "4           Gala apple\n",
       "5     Honeycrisp apple\n",
       "6               Tomato\n",
       "7           Watermelon\n",
       "8             Honeydew\n",
       "9                 Kiwi\n",
       "10                Kiwi\n",
       "11                Kiwi\n",
       "12               Mango\n",
       "13           Blueberry\n",
       "14          Blackberry\n",
       "15          Gooseberry\n",
       "16              Papaya\n",
       "dtype: object"
      ]
     },
     "execution_count": 47,
     "metadata": {},
     "output_type": "execute_result"
    }
   ],
   "source": [
    "fruits_series.str.capitalize()"
   ]
  },
  {
   "cell_type": "markdown",
   "id": "5e99e684",
   "metadata": {},
   "source": [
    "2. Count the letter \"a\" in all the string values (use string vectorization)."
   ]
  },
  {
   "cell_type": "code",
   "execution_count": 50,
   "id": "a4284854",
   "metadata": {},
   "outputs": [
    {
     "data": {
      "text/plain": [
       "0     0\n",
       "1     1\n",
       "2     1\n",
       "3     1\n",
       "4     3\n",
       "5     1\n",
       "6     1\n",
       "7     1\n",
       "8     0\n",
       "9     0\n",
       "10    0\n",
       "11    0\n",
       "12    1\n",
       "13    0\n",
       "14    1\n",
       "15    0\n",
       "16    3\n",
       "dtype: int64"
      ]
     },
     "execution_count": 50,
     "metadata": {},
     "output_type": "execute_result"
    }
   ],
   "source": [
    "fruits_series.str.count('a')"
   ]
  },
  {
   "cell_type": "markdown",
   "id": "f5e92bbc",
   "metadata": {},
   "source": [
    "3. Output the number of vowels in each and every string value."
   ]
  },
  {
   "cell_type": "code",
   "execution_count": 68,
   "id": "1eb836ed",
   "metadata": {},
   "outputs": [
    {
     "data": {
      "text/plain": [
       "6"
      ]
     },
     "execution_count": 68,
     "metadata": {},
     "output_type": "execute_result"
    }
   ],
   "source": [
    "def vowel_count(user_string):\n",
    "    total_vowels = 0\n",
    "    for x in user_string:\n",
    "        if x in 'aeiou':\n",
    "            total_vowels +=1\n",
    "    return(total_vowels)"
   ]
  },
  {
   "cell_type": "code",
   "execution_count": 69,
   "id": "ea6433e9",
   "metadata": {},
   "outputs": [
    {
     "data": {
      "text/plain": [
       "0     2\n",
       "1     2\n",
       "2     2\n",
       "3     4\n",
       "4     4\n",
       "5     5\n",
       "6     3\n",
       "7     4\n",
       "8     3\n",
       "9     2\n",
       "10    2\n",
       "11    2\n",
       "12    2\n",
       "13    3\n",
       "14    2\n",
       "15    4\n",
       "16    3\n",
       "dtype: int64"
      ]
     },
     "execution_count": 69,
     "metadata": {},
     "output_type": "execute_result"
    }
   ],
   "source": [
    "vowels = list('aeiou')\n",
    "fruits_series.apply(vowel_count)"
   ]
  },
  {
   "cell_type": "markdown",
   "id": "89deae95",
   "metadata": {},
   "source": [
    "4. Write the code to get the longest string value from fruits."
   ]
  },
  {
   "cell_type": "code",
   "execution_count": 98,
   "id": "4324fac4",
   "metadata": {},
   "outputs": [
    {
     "data": {
      "text/plain": [
       "16    papaya\n",
       "dtype: object"
      ]
     },
     "execution_count": 98,
     "metadata": {},
     "output_type": "execute_result"
    }
   ],
   "source": [
    "fruits_series[fruits_series.str.len().nlargest(1)]"
   ]
  },
  {
   "cell_type": "markdown",
   "id": "c600283a",
   "metadata": {},
   "source": [
    "5. Write the code to get the string values with 5 or more letters in the name."
   ]
  },
  {
   "cell_type": "code",
   "execution_count": 76,
   "id": "5763770a",
   "metadata": {},
   "outputs": [
    {
     "data": {
      "text/plain": [
       "1                mango\n",
       "2           strawberry\n",
       "3            pineapple\n",
       "4           gala apple\n",
       "5     honeycrisp apple\n",
       "6               tomato\n",
       "7           watermelon\n",
       "8             honeydew\n",
       "12               mango\n",
       "13           blueberry\n",
       "14          blackberry\n",
       "15          gooseberry\n",
       "16              papaya\n",
       "dtype: object"
      ]
     },
     "execution_count": 76,
     "metadata": {},
     "output_type": "execute_result"
    }
   ],
   "source": [
    "fruits_series[fruits_series.str.len() >= 5]"
   ]
  },
  {
   "cell_type": "markdown",
   "id": "39d630dd",
   "metadata": {},
   "source": [
    "6. Use the .apply method with a lambda function to find the fruit(s) containing the letter \"o\" two or more times."
   ]
  },
  {
   "cell_type": "code",
   "execution_count": 100,
   "id": "9266c681",
   "metadata": {},
   "outputs": [
    {
     "data": {
      "text/plain": [
       "6         tomato\n",
       "15    gooseberry\n",
       "dtype: object"
      ]
     },
     "execution_count": 100,
     "metadata": {},
     "output_type": "execute_result"
    }
   ],
   "source": [
    "fruits_series[fruits_series.apply(lambda fruit: fruit.count('o') > 1)]"
   ]
  },
  {
   "cell_type": "markdown",
   "id": "eaa72b81",
   "metadata": {},
   "source": [
    "7. Write the code to get only the string values containing the substring \"berry\"."
   ]
  },
  {
   "cell_type": "code",
   "execution_count": 78,
   "id": "eb274c69",
   "metadata": {},
   "outputs": [
    {
     "data": {
      "text/plain": [
       "2     strawberry\n",
       "13     blueberry\n",
       "14    blackberry\n",
       "15    gooseberry\n",
       "dtype: object"
      ]
     },
     "execution_count": 78,
     "metadata": {},
     "output_type": "execute_result"
    }
   ],
   "source": [
    "fruits_series[fruits_series.str.contains('berry')]"
   ]
  },
  {
   "cell_type": "markdown",
   "id": "46991dff",
   "metadata": {},
   "source": [
    "8. Write the code to get only the string values containing the substring \"apple\"."
   ]
  },
  {
   "cell_type": "code",
   "execution_count": 79,
   "id": "1041f079",
   "metadata": {},
   "outputs": [
    {
     "data": {
      "text/plain": [
       "3           pineapple\n",
       "4          gala apple\n",
       "5    honeycrisp apple\n",
       "dtype: object"
      ]
     },
     "execution_count": 79,
     "metadata": {},
     "output_type": "execute_result"
    }
   ],
   "source": [
    "fruits_series[fruits_series.str.contains('apple')]"
   ]
  },
  {
   "cell_type": "markdown",
   "id": "cbaa3eb2",
   "metadata": {},
   "source": [
    "9. Which string value contains the most vowels?"
   ]
  },
  {
   "cell_type": "code",
   "execution_count": 103,
   "id": "a98c00e8",
   "metadata": {},
   "outputs": [
    {
     "data": {
      "text/plain": [
       "'honeycrisp apple'"
      ]
     },
     "execution_count": 103,
     "metadata": {},
     "output_type": "execute_result"
    }
   ],
   "source": [
    "fruits_series[fruits_series.apply(vowel_count).idxmax]"
   ]
  },
  {
   "cell_type": "markdown",
   "id": "eec88cf6",
   "metadata": {},
   "source": [
    "### Exercises Part III"
   ]
  },
  {
   "cell_type": "code",
   "execution_count": 107,
   "id": "aa01f39b",
   "metadata": {},
   "outputs": [
    {
     "data": {
      "text/plain": [
       "0      h\n",
       "1      n\n",
       "2      v\n",
       "3      i\n",
       "4      d\n",
       "      ..\n",
       "195    r\n",
       "196    o\n",
       "197    g\n",
       "198    u\n",
       "199    y\n",
       "Length: 200, dtype: object"
      ]
     },
     "execution_count": 107,
     "metadata": {},
     "output_type": "execute_result"
    }
   ],
   "source": [
    "letter_string = 'hnvidduckkqxwymbimkccexbkmqygkxoyndmcxnwqarhyffsjpsrabtjzsypmzadfavyrnndndvswreauxovncxtwzpwejilzjrmmbbgbyxvjtewqthafnbkqplarokkyydtubbmnexoypulzwfhqvckdpqtpoppzqrmcvhhpwgjwupgzhiofohawytlsiyecuproguy'\n",
    "letter_series = pd.Series([x for x in letter_string])\n",
    "letter_series                          \n",
    "                          "
   ]
  },
  {
   "cell_type": "markdown",
   "id": "5877b64a",
   "metadata": {},
   "source": [
    "1. Which letter occurs the most frequently in the letters Series?\n",
    "2. Which letter occurs the Least frequently?"
   ]
  },
  {
   "cell_type": "code",
   "execution_count": 112,
   "id": "834f1308",
   "metadata": {},
   "outputs": [
    {
     "name": "stdout",
     "output_type": "stream",
     "text": [
      "The most frequently occurring letter is y\n",
      "The least frequently occuring letter is l\n"
     ]
    }
   ],
   "source": [
    "print(\"The most frequently occurring letter is\", letter_series.value_counts().idxmax())\n",
    "print(\"The least frequently occuring letter is\", letter_series.value_counts().idxmin())"
   ]
  },
  {
   "cell_type": "markdown",
   "id": "f3917df4",
   "metadata": {},
   "source": [
    "3. How many vowels are in the Series?\n",
    "4. How many consonants are in the Series?"
   ]
  },
  {
   "cell_type": "code",
   "execution_count": 246,
   "id": "7cc7cd57",
   "metadata": {},
   "outputs": [
    {
     "data": {
      "text/plain": [
       "False    166\n",
       "True      34\n",
       "dtype: int64"
      ]
     },
     "execution_count": 246,
     "metadata": {},
     "output_type": "execute_result"
    }
   ],
   "source": [
    "letter_series.isin(['a', 'e', 'i', 'o', 'u']).value_counts()"
   ]
  },
  {
   "cell_type": "markdown",
   "id": "a9d4b4e3",
   "metadata": {},
   "source": [
    "5. Create a Series that has all of the same letters but uppercased."
   ]
  },
  {
   "cell_type": "code",
   "execution_count": 247,
   "id": "7ca5f60f",
   "metadata": {},
   "outputs": [
    {
     "data": {
      "text/plain": [
       "0      H\n",
       "1      N\n",
       "2      V\n",
       "3      I\n",
       "4      D\n",
       "      ..\n",
       "195    R\n",
       "196    O\n",
       "197    G\n",
       "198    U\n",
       "199    Y\n",
       "Length: 200, dtype: object"
      ]
     },
     "execution_count": 247,
     "metadata": {},
     "output_type": "execute_result"
    }
   ],
   "source": [
    "letter_series.str.upper()"
   ]
  },
  {
   "cell_type": "markdown",
   "id": "37a61579",
   "metadata": {},
   "source": [
    "6. Create a bar plot of the frequencies of the 6 most commonly occuring letters."
   ]
  },
  {
   "cell_type": "code",
   "execution_count": 142,
   "id": "5d728968",
   "metadata": {},
   "outputs": [
    {
     "data": {
      "image/png": "[encoded data removed]",
      "text/plain": [
       "<Figure size 432x288 with 1 Axes>"
      ]
     },
     "metadata": {
      "needs_background": "light"
     },
     "output_type": "display_data"
    }
   ],
   "source": [
    "letter_series.value_counts().head(6).plot.bar(rot=90)\n",
    "\n",
    "plt.show()"
   ]
  },
  {
   "cell_type": "markdown",
   "id": "0b4403f8",
   "metadata": {},
   "source": [
    "### Use pandas to create a Series named numbers\n",
    "1. What is the data type of the numbers Series?"
   ]
  },
  {
   "cell_type": "code",
   "execution_count": 145,
   "id": "77407688",
   "metadata": {},
   "outputs": [],
   "source": [
    "number_string = pd.Series([x for x in ['$796,459.41', '$278.60', '$482,571.67', '$4,503,915.98', '$2,121,418.3', '$1,260,813.3', '$87,231.01', '$1,509,175.45', '$4,138,548.00', '$2,848,913.80', '$594,715.39', '$4,789,988.17', '$4,513,644.5', '$3,191,059.97', '$1,758,712.24', '$4,338,283.54', '$4,738,303.38', '$2,791,759.67', '$769,681.94', '$452,650.23']])"
   ]
  },
  {
   "cell_type": "code",
   "execution_count": 148,
   "id": "fc9ab1b3",
   "metadata": {},
   "outputs": [
    {
     "data": {
      "text/plain": [
       "dtype('O')"
      ]
     },
     "execution_count": 148,
     "metadata": {},
     "output_type": "execute_result"
    }
   ],
   "source": [
    "number_string.dtype"
   ]
  },
  {
   "cell_type": "markdown",
   "id": "a0af6753",
   "metadata": {},
   "source": [
    "2. How many elements are in the number Series?"
   ]
  },
  {
   "cell_type": "code",
   "execution_count": 149,
   "id": "358d1e65",
   "metadata": {},
   "outputs": [
    {
     "data": {
      "text/plain": [
       "20"
      ]
     },
     "execution_count": 149,
     "metadata": {},
     "output_type": "execute_result"
    }
   ],
   "source": [
    "number_string.count()"
   ]
  },
  {
   "cell_type": "markdown",
   "id": "592ae239",
   "metadata": {},
   "source": [
    "3. Perform the necessary manipulations by accessing Series attributes and methods to convert the numbers Series to a numeric data type."
   ]
  },
  {
   "cell_type": "code",
   "execution_count": 263,
   "id": "235f8bfd",
   "metadata": {},
   "outputs": [
    {
     "name": "stderr",
     "output_type": "stream",
     "text": [
      "<ipython-input-263-7f81a14f474a>:1: FutureWarning: The default value of regex will change from True to False in a future version. In addition, single character regular expressions will*not* be treated as literal strings when regex=True.\n",
      "  float_series = number_string.str.replace(',', '').str.replace('$', '').astype('float')\n"
     ]
    }
   ],
   "source": [
    "float_series = number_string.str.replace(',', '').str.replace('$', '').astype('float')"
   ]
  },
  {
   "cell_type": "markdown",
   "id": "b8d692ba",
   "metadata": {},
   "source": [
    "4. Run the code to discover the maximum value from the Series.\n",
    "5. Run the code to discover the minimum value from the Series."
   ]
  },
  {
   "cell_type": "code",
   "execution_count": 264,
   "id": "190e1c0f",
   "metadata": {},
   "outputs": [
    {
     "name": "stdout",
     "output_type": "stream",
     "text": [
      "The max value from the series is: 4789988.17\n",
      "The min value from the series is: 278.6\n"
     ]
    }
   ],
   "source": [
    "print(\"The max value from the series is:\", float_series.max())\n",
    "print(\"The min value from the series is:\", float_series.min())"
   ]
  },
  {
   "cell_type": "markdown",
   "id": "30931745",
   "metadata": {},
   "source": [
    "6. What is the range of the values in the Series?"
   ]
  },
  {
   "cell_type": "code",
   "execution_count": 175,
   "id": "c07f5d5d",
   "metadata": {},
   "outputs": [
    {
     "data": {
      "text/plain": [
       "4789709.57"
      ]
     },
     "execution_count": 175,
     "metadata": {},
     "output_type": "execute_result"
    }
   ],
   "source": [
    "float_series.max() - float_series.min"
   ]
  },
  {
   "cell_type": "markdown",
   "id": "52839975",
   "metadata": {},
   "source": [
    "7. Bin the data into 4 equally sized intervals or bins and output how many values fall into each bin."
   ]
  },
  {
   "cell_type": "code",
   "execution_count": 180,
   "id": "b2a670de",
   "metadata": {},
   "outputs": [
    {
     "data": {
      "text/plain": [
       "(0, 1250000]          7\n",
       "(3750000, 5000000]    6\n",
       "(1250000, 2500000]    4\n",
       "(2500000, 3750000]    3\n",
       "dtype: int64"
      ]
     },
     "execution_count": 180,
     "metadata": {},
     "output_type": "execute_result"
    }
   ],
   "source": [
    "pd.cut(float_series, [0, 1250000, 2500000, 3750000, 5000000]).value_counts()"
   ]
  },
  {
   "cell_type": "markdown",
   "id": "54c565bb",
   "metadata": {},
   "source": [
    "8. Plot the binned data in a meaningful way. Be sure to include a title and axis labels."
   ]
  },
  {
   "cell_type": "code",
   "execution_count": 188,
   "id": "55b416f7",
   "metadata": {},
   "outputs": [
    {
     "data": {
      "text/plain": [
       "[Text(0.5, 0, 'Value'), Text(0, 0.5, 'Total')]"
      ]
     },
     "execution_count": 188,
     "metadata": {},
     "output_type": "execute_result"
    },
    {
     "data": {
      "image/png": "[encoded data removed]",
      "text/plain": [
       "<Figure size 432x288 with 1 Axes>"
      ]
     },
     "metadata": {
      "needs_background": "light"
     },
     "output_type": "display_data"
    }
   ],
   "source": [
    "pd.cut(float_series, [0, 1250000, 2500000, 3750000, 5000000]).value_counts().plot.bar(title='Bins Visualization',\n",
    "                                                                                      width = .75).set(xlabel = 'Value',\n",
    "                                                                                                      ylabel = 'Total')"
   ]
  },
  {
   "cell_type": "markdown",
   "id": "0e858218",
   "metadata": {},
   "source": [
    "### Use pandas to create a Series named exam_scores\n",
    "1. How many elements are in the exam_scores Series?"
   ]
  },
  {
   "cell_type": "code",
   "execution_count": 265,
   "id": "99766711",
   "metadata": {},
   "outputs": [
    {
     "data": {
      "text/plain": [
       "20"
      ]
     },
     "execution_count": 265,
     "metadata": {},
     "output_type": "execute_result"
    }
   ],
   "source": [
    "scores_series = pd.Series([x for x in [60, 86, 75, 62, 93, 71, 60, 83, 95, 78, 65, 72, 69, 81, 96, 80, 85, 92, 82, 78]])\n",
    "scores_series.size"
   ]
  },
  {
   "cell_type": "markdown",
   "id": "9c855a90",
   "metadata": {},
   "source": [
    "2. Run the code to discover the minimum, the maximum, the mean, and the median scores for the exam_scores Series."
   ]
  },
  {
   "cell_type": "code",
   "execution_count": 192,
   "id": "7d610af9",
   "metadata": {},
   "outputs": [
    {
     "data": {
      "text/plain": [
       "96"
      ]
     },
     "execution_count": 192,
     "metadata": {},
     "output_type": "execute_result"
    }
   ],
   "source": [
    "scores_series.max()"
   ]
  },
  {
   "cell_type": "code",
   "execution_count": 193,
   "id": "eff5584f",
   "metadata": {},
   "outputs": [
    {
     "data": {
      "text/plain": [
       "60"
      ]
     },
     "execution_count": 193,
     "metadata": {},
     "output_type": "execute_result"
    }
   ],
   "source": [
    "scores_series.min()"
   ]
  },
  {
   "cell_type": "code",
   "execution_count": 194,
   "id": "ce55c581",
   "metadata": {},
   "outputs": [
    {
     "data": {
      "text/plain": [
       "78.15"
      ]
     },
     "execution_count": 194,
     "metadata": {},
     "output_type": "execute_result"
    }
   ],
   "source": [
    "scores_series.mean()"
   ]
  },
  {
   "cell_type": "code",
   "execution_count": 195,
   "id": "688508ee",
   "metadata": {},
   "outputs": [
    {
     "data": {
      "text/plain": [
       "79.0"
      ]
     },
     "execution_count": 195,
     "metadata": {},
     "output_type": "execute_result"
    }
   ],
   "source": [
    "scores_series.median()"
   ]
  },
  {
   "cell_type": "markdown",
   "id": "2cde8119",
   "metadata": {},
   "source": [
    "3. Plot the Series in a meaningful way and make sure your chart has a title and axis labels."
   ]
  },
  {
   "cell_type": "code",
   "execution_count": 261,
   "id": "4851bc57",
   "metadata": {},
   "outputs": [
    {
     "data": {
      "image/png": "[encoded data removed]",
      "text/plain": [
       "<Figure size 432x288 with 1 Axes>"
      ]
     },
     "metadata": {
      "needs_background": "light"
     },
     "output_type": "display_data"
    }
   ],
   "source": [
    "pd.cut(scores_series, [59, 69, 79, 89, 100]).value_counts().sort_index().plot.bar(title = 'Scores',\n",
    "                                                                                  color = 'r',\n",
    "                                                                                  width = .8).set(xlabel = 'Scores',\n",
    "                                                                                          ylabel = 'Number of Students')\n",
    "plt.xticks(rotation = 45)\n",
    "plt.show()"
   ]
  },
  {
   "cell_type": "markdown",
   "id": "fe35fe8d",
   "metadata": {},
   "source": [
    "4. Write the code necessary to implement a curve for your exam_grades Series and save this as curved_grades. Add the necessary points to the highest grade to make it 100, and add the same number of points to every other score in the Series as well."
   ]
  },
  {
   "cell_type": "code",
   "execution_count": 242,
   "id": "9ebeb6f1",
   "metadata": {},
   "outputs": [],
   "source": [
    "curved_grades = scores_series.add(100 - scores_series.max())"
   ]
  },
  {
   "cell_type": "markdown",
   "id": "3d343a82",
   "metadata": {},
   "source": [
    "5. Use a method to convert each of the numeric values in the curved_grades Series into a categorical value of letter grades. For example, 86 should be a 'B' and 95 should be an 'A'. Save this as a Series named letter_grades."
   ]
  },
  {
   "cell_type": "code",
   "execution_count": 266,
   "id": "016a4bf1",
   "metadata": {},
   "outputs": [],
   "source": [
    "def letter_grade(user_number):\n",
    "    if user_number <= 59:\n",
    "        return 'F'\n",
    "    elif user_number <= 69:\n",
    "        return 'D'\n",
    "    elif user_number <= 79:\n",
    "        return 'C' \n",
    "    elif user_number <= 89: \n",
    "        return 'B'\n",
    "    else:\n",
    "        return 'A'"
   ]
  },
  {
   "cell_type": "code",
   "execution_count": 268,
   "id": "7ebb16b7",
   "metadata": {},
   "outputs": [],
   "source": [
    "letter_grades = curved_grades.apply(letter_grade)"
   ]
  },
  {
   "cell_type": "markdown",
   "id": "1cedbb9d",
   "metadata": {},
   "source": [
    "6. Plot your new categorical letter_grades Series in a meaninful way and include a title and axis labels."
   ]
  },
  {
   "cell_type": "code",
   "execution_count": 270,
   "id": "c54661f3",
   "metadata": {},
   "outputs": [
    {
     "data": {
      "image/png": "[encoded data removed]",
      "text/plain": [
       "<Figure size 432x288 with 1 Axes>"
      ]
     },
     "metadata": {
      "needs_background": "light"
     },
     "output_type": "display_data"
    }
   ],
   "source": [
    "letter_grades.value_counts().sort_index().plot.bar(title = 'Scores',\n",
    "                                                    color = 'r',\n",
    "                                                    width = .8).set(xlabel = 'Scores',\n",
    "                                                    ylabel = 'Number of Students')\n",
    "plt.xticks(rotation = 45)\n",
    "plt.show()"
   ]
  },
  {
   "cell_type": "code",
   "execution_count": null,
   "id": "bc361426",
   "metadata": {},
   "outputs": [],
   "source": []
  }
 ],
 "metadata": {
  "kernelspec": {
   "display_name": "Python 3",
   "language": "python",
   "name": "python3"
  },
  "language_info": {
   "codemirror_mode": {
    "name": "ipython",
    "version": 3
   },
   "file_extension": ".py",
   "mimetype": "text/x-python",
   "name": "python",
   "nbconvert_exporter": "python",
   "pygments_lexer": "ipython3",
   "version": "3.8.8"
  }
 },
 "nbformat": 4,
 "nbformat_minor": 5
}
